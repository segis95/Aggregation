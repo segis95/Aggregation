{
 "cells": [
  {
   "cell_type": "markdown",
   "metadata": {},
   "source": [
    "# Building a meta algorithm from several models(aggregation from several models)"
   ]
  },
  {
   "cell_type": "code",
   "execution_count": 36,
   "metadata": {
    "collapsed": false
   },
   "outputs": [],
   "source": [
    "import numpy as np\n",
    "import pandas as pd\n",
    "import seaborn as sns\n",
    "import sklearn\n",
    "sns.set(style=\"white\")\n",
    "from pandas import read_csv, DataFrame, Series,concat"
   ]
  },
  {
   "cell_type": "code",
   "execution_count": 37,
   "metadata": {
    "collapsed": false
   },
   "outputs": [],
   "source": [
    "data = read_csv('train.csv')\n",
    "data = data.drop(['id'], axis=1)"
   ]
  },
  {
   "cell_type": "code",
   "execution_count": 38,
   "metadata": {
    "collapsed": false
   },
   "outputs": [],
   "source": [
    "from sklearn.preprocessing import LabelEncoder\n",
    "label = LabelEncoder()\n",
    "dicts = {}\n",
    "\n",
    "label.fit(data.target.drop_duplicates())\n",
    "dicts['target'] = list(label.classes_)\n",
    "data.target = label.transform(data.target) \n"
   ]
  },
  {
   "cell_type": "code",
   "execution_count": 39,
   "metadata": {
    "collapsed": false
   },
   "outputs": [],
   "source": [
    "from sklearn import cross_validation, svm\n",
    "from sklearn.neighbors import KNeighborsClassifier\n",
    "from sklearn.ensemble import RandomForestClassifier\n",
    "from sklearn.linear_model import LogisticRegression\n",
    "from sklearn.metrics import roc_curve, auc\n",
    "import pylab as pl\n",
    "from sklearn import ensemble\n",
    "import math\n",
    "from sklearn.naive_bayes import GaussianNB"
   ]
  },
  {
   "cell_type": "code",
   "execution_count": 40,
   "metadata": {
    "collapsed": false
   },
   "outputs": [],
   "source": [
    "labels = data.target"
   ]
  },
  {
   "cell_type": "code",
   "execution_count": 41,
   "metadata": {
    "collapsed": false
   },
   "outputs": [],
   "source": [
    "train_data = data.drop(['target'], axis=1)"
   ]
  },
  {
   "cell_type": "markdown",
   "metadata": {},
   "source": [
    "Setting classifiers"
   ]
  },
  {
   "cell_type": "code",
   "execution_count": 55,
   "metadata": {
    "collapsed": false
   },
   "outputs": [],
   "source": [
    "model_rfc1 = RandomForestClassifier(n_estimators = 100)#800\n",
    "model_rfc2 = RandomForestClassifier(n_estimators = 100)\n",
    "model_rfc3 = RandomForestClassifier(n_estimators = 100)\n",
    "model_rfc4 = RandomForestClassifier(n_estimators = 100)\n",
    "model_rfc5 = RandomForestClassifier(n_estimators = 100)\n",
    "model_svc1 = sklearn.linear_model.LogisticRegression()#svm.SVC(probability=True) #по умолчанию kernek='rbf'\n",
    "model_svc2 = sklearn.linear_model.LogisticRegression() #по умолчанию kernek='rbf'\n",
    "model_svc3 = sklearn.linear_model.LogisticRegression() #по умолчанию kernek='rbf'\n",
    "model_svc4 = sklearn.linear_model.LogisticRegression() #по умолчанию kernek='rbf'\n",
    "model_svc5 = sklearn.linear_model.LogisticRegression() #по умолчанию kernek='rbf'\n",
    "model_svc_metaalg = ensemble.GradientBoostingClassifier(loss='deviance', n_estimators=100, max_depth=3,learning_rate=.1)#svm.SVC(probability=True)\n",
    "gb1 = sklearn.neighbors.NearestCentroid() #ensemble.GradientBoostingClassifier(loss='deviance', n_estimators=100, max_depth=3,learning_rate=.1)\n",
    "gb2 = sklearn.neighbors.NearestCentroid()\n",
    "gb3 = sklearn.neighbors.NearestCentroid()\n",
    "gb4 = sklearn.neighbors.NearestCentroid()\n",
    "gb5 = sklearn.neighbors.NearestCentroid()"
   ]
  },
  {
   "cell_type": "markdown",
   "metadata": {},
   "source": [
    "Random data division into 5 parts."
   ]
  },
  {
   "cell_type": "code",
   "execution_count": 56,
   "metadata": {
    "collapsed": false
   },
   "outputs": [],
   "source": [
    "trainTRN, testTRN, trainTRG, testTRG = cross_validation.train_test_split(train_data, labels, test_size=0.2)\n",
    "\n",
    "trainTRN, testTRN1, trainTRG, testTRG1 = cross_validation.train_test_split(trainTRN, trainTRG, test_size=0.2)\n",
    "trainTRN, testTRN2, trainTRG, testTRG2 = cross_validation.train_test_split(trainTRN, trainTRG, test_size=0.25)\n",
    "trainTRN, testTRN3, trainTRG, testTRG3 = cross_validation.train_test_split(trainTRN, trainTRG, test_size=0.33)\n",
    "testTRN5, testTRN4, testTRG5, testTRG4 = cross_validation.train_test_split(trainTRN, trainTRG, test_size=0.5)\n",
    "testTRN1 = DataFrame(testTRN1);\n",
    "testTRN2 = DataFrame(testTRN2);\n",
    "testTRN3 = DataFrame(testTRN3);\n",
    "testTRN4 = DataFrame(testTRN4);\n",
    "testTRN5 = DataFrame(testTRN5);\n",
    "testTRG1 = DataFrame(testTRG1);\n",
    "testTRG2 = DataFrame(testTRG2);\n",
    "testTRG3 = DataFrame(testTRG3);\n",
    "testTRG4 = DataFrame(testTRG4);\n",
    "testTRG5 = DataFrame(testTRG5);\n",
    "\n",
    "\n",
    "trainTRN1 = [testTRN2, testTRN3, testTRN4, testTRN5]\n",
    "trainTRG1 = [testTRG2, testTRG3, testTRG4, testTRG5]\n",
    "trainTRN1 = concat(trainTRN1)\n",
    "trainTRG1 = concat(trainTRG1)\n",
    "trainTRN1 = trainTRN1.as_matrix()\n",
    "trainTRG1 = np.ravel(trainTRG1)\n",
    "\n",
    "trainTRN2 = [testTRN1, testTRN3, testTRN4, testTRN5]\n",
    "trainTRG2 = [testTRG1, testTRG3, testTRG4, testTRG5]\n",
    "trainTRN2 = concat(trainTRN2)\n",
    "trainTRG2 = concat(trainTRG2)\n",
    "trainTRN2 = trainTRN2.as_matrix()\n",
    "trainTRG2 = np.ravel(trainTRG2)\n",
    "\n",
    "trainTRN3 = [testTRN2, testTRN1, testTRN4, testTRN5]\n",
    "trainTRG3 = [testTRG2, testTRG1, testTRG4, testTRG5]\n",
    "trainTRN3 = concat(trainTRN3)\n",
    "trainTRG3 = concat(trainTRG3)\n",
    "trainTRN3 = trainTRN3.as_matrix()\n",
    "trainTRG3 = np.ravel(trainTRG3)\n",
    "\n",
    "trainTRN4 = [testTRN2, testTRN3, testTRN1, testTRN5]\n",
    "trainTRG4 = [testTRG2, testTRG3, testTRG1, testTRG5]\n",
    "trainTRN4 = concat(trainTRN4)\n",
    "trainTRG4 = concat(trainTRG4)\n",
    "trainTRN4 = trainTRN4.as_matrix()\n",
    "trainTRG4 = np.ravel(trainTRG4)\n",
    "\n",
    "trainTRN5 = [testTRN2, testTRN3, testTRN4, testTRN1]\n",
    "trainTRG5 = [testTRG2, testTRG3, testTRG4, testTRG1]\n",
    "trainTRN5 = concat(trainTRN5)\n",
    "trainTRG5 = concat(trainTRG5)\n",
    "trainTRN5 = trainTRN5.as_matrix()\n",
    "trainTRG5 = np.ravel(trainTRG5)\n",
    "\n",
    "testTRN1 = testTRN1.as_matrix()\n",
    "testTRG1 = np.ravel(testTRG1)\n",
    "testTRN2 = testTRN2.as_matrix()\n",
    "testTRG2 = np.ravel(testTRG2)\n",
    "testTRN3 = testTRN3.as_matrix()\n",
    "testTRG3 = np.ravel(testTRG3)\n",
    "testTRN4 = testTRN4.as_matrix()\n",
    "testTRG4 = np.ravel(testTRG4)\n",
    "testTRN5 = testTRN5.as_matrix()\n",
    "testTRG5 = np.ravel(testTRG5)"
   ]
  },
  {
   "cell_type": "markdown",
   "metadata": {},
   "source": [
    "Teaching algorithms on the obtained datasets. k*m models"
   ]
  },
  {
   "cell_type": "code",
   "execution_count": 57,
   "metadata": {
    "collapsed": false
   },
   "outputs": [
    {
     "data": {
      "text/plain": [
       "RandomForestClassifier(bootstrap=True, compute_importances=None,\n",
       "            criterion='gini', max_depth=None, max_features='auto',\n",
       "            max_leaf_nodes=None, min_density=None, min_samples_leaf=1,\n",
       "            min_samples_split=2, n_estimators=100, n_jobs=1,\n",
       "            oob_score=False, random_state=None, verbose=0)"
      ]
     },
     "execution_count": 57,
     "metadata": {},
     "output_type": "execute_result"
    }
   ],
   "source": [
    "gb1.fit(trainTRN1, trainTRG1)\n",
    "gb2.fit(trainTRN2, trainTRG2)\n",
    "gb3.fit(trainTRN3, trainTRG3)\n",
    "gb4.fit(trainTRN4, trainTRG4)\n",
    "gb5.fit(trainTRN5, trainTRG5)\n",
    "\n",
    "model_svc1.fit(trainTRN1, trainTRG1)\n",
    "model_svc2.fit(trainTRN2, trainTRG2)\n",
    "model_svc3.fit(trainTRN3, trainTRG3)\n",
    "model_svc4.fit(trainTRN4, trainTRG4)\n",
    "model_svc5.fit(trainTRN5, trainTRG5)\n",
    "\n",
    "model_rfc1.fit(trainTRN1, trainTRG1)\n",
    "model_rfc2.fit(trainTRN2, trainTRG2)\n",
    "model_rfc3.fit(trainTRN3, trainTRG3)\n",
    "model_rfc4.fit(trainTRN4, trainTRG4)\n",
    "model_rfc5.fit(trainTRN5, trainTRG5)"
   ]
  },
  {
   "cell_type": "markdown",
   "metadata": {},
   "source": [
    "Getting new features."
   ]
  },
  {
   "cell_type": "markdown",
   "metadata": {},
   "source": [
    "Teaching the metha algorithm on methadata."
   ]
  },
  {
   "cell_type": "code",
   "execution_count": 46,
   "metadata": {
    "collapsed": false
   },
   "outputs": [
    {
     "data": {
      "text/plain": [
       "SVC(C=1.0, cache_size=200, class_weight=None, coef0=0.0, degree=3, gamma=0.0,\n",
       "  kernel='rbf', max_iter=-1, probability=True, random_state=None,\n",
       "  shrinking=True, tol=0.001, verbose=False)"
      ]
     },
     "execution_count": 46,
     "metadata": {},
     "output_type": "execute_result"
    }
   ],
   "source": [
    "train_meta_dataTRN = DataFrame(L)\n",
    "train_meta_dataTRG = DataFrame(L1)\n",
    "train_meta_dataTRN = train_meta_dataTRN.as_matrix()\n",
    "train_meta_dataTRG = np.ravel(train_meta_dataTRG)\n",
    "model_svc_metaalg.fit(train_meta_dataTRN, train_meta_dataTRG)"
   ]
  },
  {
   "cell_type": "markdown",
   "metadata": {},
   "source": [
    "Teaching algorithms on the whole dataset."
   ]
  },
  {
   "cell_type": "code",
   "execution_count": 47,
   "metadata": {
    "collapsed": false
   },
   "outputs": [],
   "source": [
    "model_svc0 = sklearn.linear_model.LogisticRegression()\n",
    "model_rfc0 = RandomForestClassifier(n_estimators = 100)\n",
    "gb0 = sklearn.neighbors.NearestCentroid()"
   ]
  },
  {
   "cell_type": "code",
   "execution_count": 48,
   "metadata": {
    "collapsed": false
   },
   "outputs": [
    {
     "name": "stdout",
     "output_type": "stream",
     "text": [
      "1\n",
      "2\n"
     ]
    },
    {
     "data": {
      "text/plain": [
       "RandomForestClassifier(bootstrap=True, compute_importances=None,\n",
       "            criterion='gini', max_depth=None, max_features='auto',\n",
       "            max_leaf_nodes=None, min_density=None, min_samples_leaf=1,\n",
       "            min_samples_split=2, n_estimators=100, n_jobs=1,\n",
       "            oob_score=False, random_state=None, verbose=0)"
      ]
     },
     "execution_count": 48,
     "metadata": {},
     "output_type": "execute_result"
    }
   ],
   "source": [
    "gb0.fit(trainTRN, trainTRG)\n",
    "print(\"1\")\n",
    "model_svc0.fit(trainTRN, trainTRG)\n",
    "print(\"2\")\n",
    "model_rfc0.fit(trainTRN, trainTRG)"
   ]
  },
  {
   "cell_type": "markdown",
   "metadata": {},
   "source": [
    "Getting new features for the TEST dataset. "
   ]
  },
  {
   "cell_type": "code",
   "execution_count": 49,
   "metadata": {
    "collapsed": false
   },
   "outputs": [],
   "source": [
    "R = []\n",
    "R1 = []\n",
    "a = list(testTRN)\n",
    "b = list(testTRG)\n",
    "for i in range(len(a)):\n",
    "    s = []\n",
    "    s = s + [model_svc0.predict(a[i])]\n",
    "    s = s + [gb0.predict(a[i])]\n",
    "    s = s + [model_rfc0.predict(a[i])]\n",
    "    R = R + [s]\n",
    "    R1 = R1 + [b[i]]"
   ]
  },
  {
   "cell_type": "markdown",
   "metadata": {},
   "source": [
    "Building prediction."
   ]
  },
  {
   "cell_type": "code",
   "execution_count": 50,
   "metadata": {
    "collapsed": false
   },
   "outputs": [
    {
     "data": {
      "text/plain": [
       "0.69506800447519346"
      ]
     },
     "execution_count": 50,
     "metadata": {},
     "output_type": "execute_result"
    }
   ],
   "source": [
    "test_dataTRN0 = DataFrame(R)\n",
    "test_dataTRG0 = DataFrame(R1)\n",
    "test_dataTRN0 = test_dataTRN0.as_matrix()\n",
    "test_dataTRG0 = np.ravel(test_dataTRG0)\n",
    "ans = model_svc_metaalg.predict_proba(test_dataTRN0)\n",
    "sklearn.metrics.log_loss(test_dataTRG0,ans)"
   ]
  }
 ],
 "metadata": {
  "kernelspec": {
   "display_name": "Python 2",
   "language": "python",
   "name": "python2"
  },
  "language_info": {
   "codemirror_mode": {
    "name": "ipython",
    "version": 2
   },
   "file_extension": ".py",
   "mimetype": "text/x-python",
   "name": "python",
   "nbconvert_exporter": "python",
   "pygments_lexer": "ipython2",
   "version": "2.7.11"
  }
 },
 "nbformat": 4,
 "nbformat_minor": 0
}
